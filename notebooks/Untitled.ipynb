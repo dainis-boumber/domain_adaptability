{
 "cells": [
  {
   "cell_type": "code",
   "execution_count": 1,
   "id": "87c93ae6-44a1-4c74-8ee7-5a57e91c2412",
   "metadata": {},
   "outputs": [
    {
     "name": "stderr",
     "output_type": "stream",
     "text": [
      "Since the GPL-licensed package `unidecode` is not installed, using Python's `unicodedata` package which yields worse results.\n"
     ]
    }
   ],
   "source": [
    "from domain_adaptability import Adaptability"
   ]
  },
  {
   "cell_type": "code",
   "execution_count": 2,
   "id": "d644d16f-a1a2-4389-88a5-d94def5e0f2e",
   "metadata": {},
   "outputs": [],
   "source": [
    "da = Adaptability(language=\"eng\")"
   ]
  },
  {
   "cell_type": "code",
   "execution_count": 4,
   "id": "80465bd9-4391-407d-bb2b-2289f2087cb2",
   "metadata": {},
   "outputs": [
    {
     "data": {
      "text/plain": [
       "0.6350937424532643"
      ]
     },
     "execution_count": 4,
     "metadata": {},
     "output_type": "execute_result"
    }
   ],
   "source": [
    "da.calculate(\"fake-news-train.jsonl\", \"job-scams-train.jsonl\")"
   ]
  },
  {
   "cell_type": "code",
   "execution_count": null,
   "id": "5cfff546-00f4-4bf7-9fc0-82d941ad03e2",
   "metadata": {},
   "outputs": [],
   "source": []
  },
  {
   "cell_type": "code",
   "execution_count": null,
   "id": "d4367706-a4e4-4dd8-b44c-acd1b580b240",
   "metadata": {},
   "outputs": [],
   "source": []
  },
  {
   "cell_type": "code",
   "execution_count": null,
   "id": "6ee160d5-27ac-41db-82d0-b282a1e105d7",
   "metadata": {},
   "outputs": [],
   "source": []
  },
  {
   "cell_type": "code",
   "execution_count": null,
   "id": "09021cef-7e2e-4fef-834c-b10321b674ef",
   "metadata": {},
   "outputs": [],
   "source": []
  },
  {
   "cell_type": "code",
   "execution_count": null,
   "id": "e6750487-b407-47b3-9b75-3b7959802b08",
   "metadata": {},
   "outputs": [],
   "source": []
  },
  {
   "cell_type": "code",
   "execution_count": null,
   "id": "87c1008b-23f5-4cb8-a3ff-747f7491b459",
   "metadata": {},
   "outputs": [],
   "source": []
  },
  {
   "cell_type": "code",
   "execution_count": null,
   "id": "ab64c929-b35e-4231-99d4-d929b99389c1",
   "metadata": {},
   "outputs": [],
   "source": []
  }
 ],
 "metadata": {
  "kernelspec": {
   "display_name": "Python 3 (ipykernel)",
   "language": "python",
   "name": "python3"
  },
  "language_info": {
   "codemirror_mode": {
    "name": "ipython",
    "version": 3
   },
   "file_extension": ".py",
   "mimetype": "text/x-python",
   "name": "python",
   "nbconvert_exporter": "python",
   "pygments_lexer": "ipython3",
   "version": "3.10.12"
  }
 },
 "nbformat": 4,
 "nbformat_minor": 5
}
